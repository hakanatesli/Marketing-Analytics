{
 "cells": [
  {
   "cell_type": "code",
   "execution_count": null,
   "metadata": {},
   "outputs": [
    {
     "ename": "SyntaxError",
     "evalue": "invalid syntax (Temp/ipykernel_16004/985787819.py, line 2)",
     "output_type": "error",
     "traceback": [
      "\u001b[1;36m  File \u001b[1;32m\"C:\\Users\\user\\AppData\\Local\\Temp/ipykernel_16004/985787819.py\"\u001b[1;36m, line \u001b[1;32m2\u001b[0m\n\u001b[1;33m    pip install statsmodels\u001b[0m\n\u001b[1;37m        ^\u001b[0m\n\u001b[1;31mSyntaxError\u001b[0m\u001b[1;31m:\u001b[0m invalid syntax\n"
     ]
    }
   ],
   "source": [
    "#pip install relativeImp\n",
    "#pip install sklearn-gbmi\n",
    "#pip install statsmodels\n",
    "#pip install fbprophet"
   ]
  },
  {
   "cell_type": "code",
   "execution_count": 6,
   "metadata": {},
   "outputs": [],
   "source": [
    "pip install fbprophet"
   ]
  },
  {
   "cell_type": "code",
   "execution_count": null,
   "metadata": {},
   "outputs": [
    {
     "ename": "ModuleNotFoundError",
     "evalue": "No module named 'statsmodels'",
     "output_type": "error",
     "traceback": [
      "\u001b[1;31m---------------------------------------------------------------------------\u001b[0m",
      "\u001b[1;31mModuleNotFoundError\u001b[0m                       Traceback (most recent call last)",
      "\u001b[1;32m~\\AppData\\Local\\Temp/ipykernel_16004/3691605350.py\u001b[0m in \u001b[0;36m<module>\u001b[1;34m\u001b[0m\n\u001b[0;32m     13\u001b[0m \u001b[1;33m\u001b[0m\u001b[0m\n\u001b[0;32m     14\u001b[0m \u001b[1;32mfrom\u001b[0m \u001b[0mrelativeImp\u001b[0m \u001b[1;32mimport\u001b[0m \u001b[0mrelativeImp\u001b[0m\u001b[1;33m\u001b[0m\u001b[1;33m\u001b[0m\u001b[0m\n\u001b[1;32m---> 15\u001b[1;33m \u001b[1;32mimport\u001b[0m \u001b[0mstatsmodels\u001b[0m\u001b[1;33m.\u001b[0m\u001b[0mapi\u001b[0m \u001b[1;32mas\u001b[0m \u001b[0msm\u001b[0m\u001b[1;33m\u001b[0m\u001b[1;33m\u001b[0m\u001b[0m\n\u001b[0m\u001b[0;32m     16\u001b[0m \u001b[1;33m\u001b[0m\u001b[0m\n\u001b[0;32m     17\u001b[0m \u001b[1;32mfrom\u001b[0m \u001b[0msklearn\u001b[0m\u001b[1;33m.\u001b[0m\u001b[0mmodel_selection\u001b[0m \u001b[1;32mimport\u001b[0m \u001b[0mtrain_test_split\u001b[0m\u001b[1;33m\u001b[0m\u001b[1;33m\u001b[0m\u001b[0m\n",
      "\u001b[1;31mModuleNotFoundError\u001b[0m: No module named 'statsmodels'"
     ]
    }
   ],
   "source": [
    "# IMPORTING LIBRARIES\n",
    "import warnings\n",
    "import datetime\n",
    "from datetime import timedelta\n",
    "import pandas as pd\n",
    "import numpy as np\n",
    "import matplotlib.pyplot as plt\n",
    "import seaborn as sns\n",
    "sns.set_style('darkgrid', {'axes.facecolor': '.9'})\n",
    "sns.set_palette(palette='deep')\n",
    "sns_c = sns.color_palette(palette='deep')\n",
    "%matplotlib inline\n",
    "\n",
    "from relativeImp import relativeImp\n",
    "import statsmodels.api as sm\n",
    "\n",
    "from sklearn.model_selection import train_test_split\n",
    "from sklearn.experimental import enable_hist_gradient_boosting\n",
    "from sklearn.ensemble import HistGradientBoostingRegressor, GradientBoostingRegressor\n",
    "from sklearn.inspection import partial_dependence, PartialDependenceDisplay, plot_partial_dependence\n",
    "from sklearn_gbmi import *\n",
    "\n",
    "from fbprophet import Prophet"
   ]
  },
  {
   "cell_type": "code",
   "execution_count": 2,
   "metadata": {},
   "outputs": [],
   "source": [
    "#SETTINGS\n",
    "warnings.filterwarnings(\"ignore\")\n",
    "sns.set(rc={'figure.figsize':(15,15)})"
   ]
  },
  {
   "cell_type": "code",
   "execution_count": 3,
   "metadata": {},
   "outputs": [],
   "source": [
    "#READ DATA\n",
    "sample_data = pd.read_excel('data\\SAMPLE_DATA.xlsx', header = 1)"
   ]
  },
  {
   "cell_type": "code",
   "execution_count": 4,
   "metadata": {},
   "outputs": [],
   "source": [
    "#EXTRACT EXPLANATION \n",
    "explantion = sample_data['Variables']\n",
    "sample_data = sample_data.drop(['Variables'], axis=1)"
   ]
  },
  {
   "cell_type": "code",
   "execution_count": 5,
   "metadata": {},
   "outputs": [],
   "source": [
    "#TRANSPOSE DATA\n",
    "transpose_sample_data = sample_data.T"
   ]
  },
  {
   "cell_type": "code",
   "execution_count": 6,
   "metadata": {},
   "outputs": [],
   "source": [
    "#ADD HEADER\n",
    "main_data = transpose_sample_data.rename(columns=transpose_sample_data.iloc[0]).drop(transpose_sample_data.index[0])"
   ]
  },
  {
   "cell_type": "code",
   "execution_count": 7,
   "metadata": {},
   "outputs": [],
   "source": [
    "main_data.index = pd.to_datetime(main_data.index)"
   ]
  },
  {
   "cell_type": "code",
   "execution_count": 8,
   "metadata": {},
   "outputs": [],
   "source": [
    "main_df = main_data.astype(float)"
   ]
  },
  {
   "cell_type": "code",
   "execution_count": 9,
   "metadata": {},
   "outputs": [],
   "source": [
    "main_df['Date']= main_df.index\n",
    "main_df['Month']= main_df.index.month\n",
    "main_df['Year']= main_df.index.year\n",
    "main_df['week_number'] = main_df.index.isocalendar().week"
   ]
  },
  {
   "cell_type": "code",
   "execution_count": 10,
   "metadata": {},
   "outputs": [
    {
     "data": {
      "text/html": [
       "<div>\n",
       "<style scoped>\n",
       "    .dataframe tbody tr th:only-of-type {\n",
       "        vertical-align: middle;\n",
       "    }\n",
       "\n",
       "    .dataframe tbody tr th {\n",
       "        vertical-align: top;\n",
       "    }\n",
       "\n",
       "    .dataframe thead th {\n",
       "        text-align: right;\n",
       "    }\n",
       "</style>\n",
       "<table border=\"1\" class=\"dataframe\">\n",
       "  <thead>\n",
       "    <tr style=\"text-align: right;\">\n",
       "      <th></th>\n",
       "      <th>BRAND_A_VOLUME</th>\n",
       "      <th>BRAND_A_PRICE</th>\n",
       "      <th>COMPETITOR_A_PRICE</th>\n",
       "      <th>COMPETITOR_B_PRICE</th>\n",
       "      <th>COMPETITOR_C_PRICE</th>\n",
       "      <th>COMPETITOR_D_PRICE</th>\n",
       "      <th>COMPETITOR_E_PRICE</th>\n",
       "      <th>BRAND_A_New product</th>\n",
       "      <th>COMPETITOR_New product</th>\n",
       "      <th>BRAND_A_Insert</th>\n",
       "      <th>...</th>\n",
       "      <th>COMPETITOR_D_TOTAL_GRP</th>\n",
       "      <th>COMPETITOR_E_TOTAL_GRP</th>\n",
       "      <th>COMPETITOR_F_TOTAL_GRP</th>\n",
       "      <th>Real_Private_Consumption</th>\n",
       "      <th>BRAND_A_NDP</th>\n",
       "      <th>Teshir_Orani_BRAND_A</th>\n",
       "      <th>Day</th>\n",
       "      <th>Month</th>\n",
       "      <th>Year</th>\n",
       "      <th>Month-Year</th>\n",
       "    </tr>\n",
       "  </thead>\n",
       "  <tbody>\n",
       "    <tr>\n",
       "      <th>2016-05-02</th>\n",
       "      <td>35232.8</td>\n",
       "      <td>12.593379</td>\n",
       "      <td>11.89</td>\n",
       "      <td>15.37</td>\n",
       "      <td>13.35</td>\n",
       "      <td>11.74</td>\n",
       "      <td>0.0</td>\n",
       "      <td>0.0</td>\n",
       "      <td>0.0</td>\n",
       "      <td>0.0</td>\n",
       "      <td>...</td>\n",
       "      <td>0.0</td>\n",
       "      <td>0.0</td>\n",
       "      <td>0.0</td>\n",
       "      <td>964.074</td>\n",
       "      <td>0.0</td>\n",
       "      <td>0.0</td>\n",
       "      <td>2</td>\n",
       "      <td>5</td>\n",
       "      <td>2016</td>\n",
       "      <td>5-2016</td>\n",
       "    </tr>\n",
       "    <tr>\n",
       "      <th>2016-05-09</th>\n",
       "      <td>155680.4</td>\n",
       "      <td>9.306888</td>\n",
       "      <td>9.51</td>\n",
       "      <td>9.65</td>\n",
       "      <td>9.94</td>\n",
       "      <td>8.36</td>\n",
       "      <td>0.0</td>\n",
       "      <td>0.0</td>\n",
       "      <td>0.0</td>\n",
       "      <td>0.0</td>\n",
       "      <td>...</td>\n",
       "      <td>0.0</td>\n",
       "      <td>0.0</td>\n",
       "      <td>0.0</td>\n",
       "      <td>964.074</td>\n",
       "      <td>0.0</td>\n",
       "      <td>0.0</td>\n",
       "      <td>9</td>\n",
       "      <td>5</td>\n",
       "      <td>2016</td>\n",
       "      <td>5-2016</td>\n",
       "    </tr>\n",
       "    <tr>\n",
       "      <th>2016-05-16</th>\n",
       "      <td>34356.6</td>\n",
       "      <td>12.539075</td>\n",
       "      <td>12.14</td>\n",
       "      <td>15.17</td>\n",
       "      <td>13.04</td>\n",
       "      <td>11.60</td>\n",
       "      <td>0.0</td>\n",
       "      <td>0.0</td>\n",
       "      <td>0.0</td>\n",
       "      <td>0.0</td>\n",
       "      <td>...</td>\n",
       "      <td>0.0</td>\n",
       "      <td>0.0</td>\n",
       "      <td>0.0</td>\n",
       "      <td>964.074</td>\n",
       "      <td>0.0</td>\n",
       "      <td>0.0</td>\n",
       "      <td>16</td>\n",
       "      <td>5</td>\n",
       "      <td>2016</td>\n",
       "      <td>5-2016</td>\n",
       "    </tr>\n",
       "    <tr>\n",
       "      <th>2016-05-23</th>\n",
       "      <td>34145.7</td>\n",
       "      <td>12.915243</td>\n",
       "      <td>12.69</td>\n",
       "      <td>15.61</td>\n",
       "      <td>13.49</td>\n",
       "      <td>11.61</td>\n",
       "      <td>0.0</td>\n",
       "      <td>0.0</td>\n",
       "      <td>0.0</td>\n",
       "      <td>0.0</td>\n",
       "      <td>...</td>\n",
       "      <td>0.0</td>\n",
       "      <td>0.0</td>\n",
       "      <td>0.0</td>\n",
       "      <td>964.074</td>\n",
       "      <td>0.0</td>\n",
       "      <td>0.0</td>\n",
       "      <td>23</td>\n",
       "      <td>5</td>\n",
       "      <td>2016</td>\n",
       "      <td>5-2016</td>\n",
       "    </tr>\n",
       "    <tr>\n",
       "      <th>2016-05-30</th>\n",
       "      <td>35328.5</td>\n",
       "      <td>12.678149</td>\n",
       "      <td>12.31</td>\n",
       "      <td>15.47</td>\n",
       "      <td>13.67</td>\n",
       "      <td>12.17</td>\n",
       "      <td>0.0</td>\n",
       "      <td>0.0</td>\n",
       "      <td>0.0</td>\n",
       "      <td>0.0</td>\n",
       "      <td>...</td>\n",
       "      <td>0.0</td>\n",
       "      <td>0.0</td>\n",
       "      <td>0.0</td>\n",
       "      <td>964.074</td>\n",
       "      <td>0.0</td>\n",
       "      <td>0.0</td>\n",
       "      <td>30</td>\n",
       "      <td>5</td>\n",
       "      <td>2016</td>\n",
       "      <td>5-2016</td>\n",
       "    </tr>\n",
       "  </tbody>\n",
       "</table>\n",
       "<p>5 rows × 43 columns</p>\n",
       "</div>"
      ],
      "text/plain": [
       "            BRAND_A_VOLUME  BRAND_A_PRICE  COMPETITOR_A_PRICE  \\\n",
       "2016-05-02         35232.8      12.593379               11.89   \n",
       "2016-05-09        155680.4       9.306888                9.51   \n",
       "2016-05-16         34356.6      12.539075               12.14   \n",
       "2016-05-23         34145.7      12.915243               12.69   \n",
       "2016-05-30         35328.5      12.678149               12.31   \n",
       "\n",
       "            COMPETITOR_B_PRICE  COMPETITOR_C_PRICE  COMPETITOR_D_PRICE  \\\n",
       "2016-05-02               15.37               13.35               11.74   \n",
       "2016-05-09                9.65                9.94                8.36   \n",
       "2016-05-16               15.17               13.04               11.60   \n",
       "2016-05-23               15.61               13.49               11.61   \n",
       "2016-05-30               15.47               13.67               12.17   \n",
       "\n",
       "            COMPETITOR_E_PRICE  BRAND_A_New product  COMPETITOR_New product  \\\n",
       "2016-05-02                 0.0                  0.0                     0.0   \n",
       "2016-05-09                 0.0                  0.0                     0.0   \n",
       "2016-05-16                 0.0                  0.0                     0.0   \n",
       "2016-05-23                 0.0                  0.0                     0.0   \n",
       "2016-05-30                 0.0                  0.0                     0.0   \n",
       "\n",
       "            BRAND_A_Insert  ...  COMPETITOR_D_TOTAL_GRP  \\\n",
       "2016-05-02             0.0  ...                     0.0   \n",
       "2016-05-09             0.0  ...                     0.0   \n",
       "2016-05-16             0.0  ...                     0.0   \n",
       "2016-05-23             0.0  ...                     0.0   \n",
       "2016-05-30             0.0  ...                     0.0   \n",
       "\n",
       "            COMPETITOR_E_TOTAL_GRP  COMPETITOR_F_TOTAL_GRP  \\\n",
       "2016-05-02                     0.0                     0.0   \n",
       "2016-05-09                     0.0                     0.0   \n",
       "2016-05-16                     0.0                     0.0   \n",
       "2016-05-23                     0.0                     0.0   \n",
       "2016-05-30                     0.0                     0.0   \n",
       "\n",
       "            Real_Private_Consumption  BRAND_A_NDP  Teshir_Orani_BRAND_A  Day  \\\n",
       "2016-05-02                   964.074          0.0                   0.0    2   \n",
       "2016-05-09                   964.074          0.0                   0.0    9   \n",
       "2016-05-16                   964.074          0.0                   0.0   16   \n",
       "2016-05-23                   964.074          0.0                   0.0   23   \n",
       "2016-05-30                   964.074          0.0                   0.0   30   \n",
       "\n",
       "            Month  Year  Month-Year  \n",
       "2016-05-02      5  2016      5-2016  \n",
       "2016-05-09      5  2016      5-2016  \n",
       "2016-05-16      5  2016      5-2016  \n",
       "2016-05-23      5  2016      5-2016  \n",
       "2016-05-30      5  2016      5-2016  \n",
       "\n",
       "[5 rows x 43 columns]"
      ]
     },
     "execution_count": 10,
     "metadata": {},
     "output_type": "execute_result"
    }
   ],
   "source": [
    "main_df.head(5)"
   ]
  },
  {
   "cell_type": "code",
   "execution_count": null,
   "metadata": {},
   "outputs": [],
   "source": [
    "main_df.describe().transpose()"
   ]
  },
  {
   "cell_type": "markdown",
   "metadata": {},
   "source": [
    "### Correlation HeatMap\n",
    "\n",
    "Pearson’s correlation coefficient is the test statistics that measures the statistical relationship, or association, between two continuous variables.  It is known as the best method of measuring the association between variables of interest because it is based on the method of covariance.  It gives information about the magnitude of the association, or correlation, as well as the direction of the relationship."
   ]
  },
  {
   "cell_type": "code",
   "execution_count": 11,
   "metadata": {},
   "outputs": [],
   "source": [
    "corr = main_df.corr()\n",
    "sns.set(rc={'figure.figsize':(12,10)})\n",
    "sns.heatmap(corr,cmap=\"YlGnBu\")"
   ]
  },
  {
   "cell_type": "markdown",
   "metadata": {},
   "source": [
    "* It is obvious that sales are inversely related to prices.\n",
    "* Prices decrease on holidays.\n",
    "* As the number of months increases, the rate of entering store magazines decreases."
   ]
  },
  {
   "cell_type": "markdown",
   "metadata": {},
   "source": [
    "### Key-Driver Analysis\n",
    "\n",
    "Key Driver Analysis is a methodology branded in market research, called Relative Weights Analysis in Data Science (which can be either Shapley or Johnson's method). Key Drivers Analysis identifies how much each of the predictor variables (the drivers) are moving the depentor variable (key metric, key performance indicator aka KPI). In other words, \"what are the drivers of your key metric?\"\n",
    "\n",
    "Relative importance or relative weight analysis is a method to “partition explained variance among multiple predictors to better understand the role played by each predictor in a regression equation” [(Tonidandel & LeBreton, 2011)](https://www.scotttonidandel.com/rwa-web). \n",
    "\n",
    "As drivers are often highly correlated with each other, typical multiple regression analysis would produce flawed indicators of driver importance. Instead, we adopt the relative weight analysis approach which accurately partitions variance among the correlated drivers."
   ]
  },
  {
   "cell_type": "code",
   "execution_count": 16,
   "metadata": {},
   "outputs": [
    {
     "data": {
      "text/html": [
       "<div>\n",
       "<style scoped>\n",
       "    .dataframe tbody tr th:only-of-type {\n",
       "        vertical-align: middle;\n",
       "    }\n",
       "\n",
       "    .dataframe tbody tr th {\n",
       "        vertical-align: top;\n",
       "    }\n",
       "\n",
       "    .dataframe thead th {\n",
       "        text-align: right;\n",
       "    }\n",
       "</style>\n",
       "<table border=\"1\" class=\"dataframe\">\n",
       "  <thead>\n",
       "    <tr style=\"text-align: right;\">\n",
       "      <th></th>\n",
       "      <th>driver</th>\n",
       "      <th>rawRelaImpt</th>\n",
       "      <th>normRelaImpt</th>\n",
       "    </tr>\n",
       "  </thead>\n",
       "  <tbody>\n",
       "    <tr>\n",
       "      <th>0</th>\n",
       "      <td>BRAND_A_PRICE</td>\n",
       "      <td>0.151319</td>\n",
       "      <td>17.055119</td>\n",
       "    </tr>\n",
       "    <tr>\n",
       "      <th>2</th>\n",
       "      <td>COMPETITOR_B_PRICE</td>\n",
       "      <td>0.116164</td>\n",
       "      <td>13.092788</td>\n",
       "    </tr>\n",
       "    <tr>\n",
       "      <th>4</th>\n",
       "      <td>COMPETITOR_D_PRICE</td>\n",
       "      <td>0.076695</td>\n",
       "      <td>8.644255</td>\n",
       "    </tr>\n",
       "    <tr>\n",
       "      <th>3</th>\n",
       "      <td>COMPETITOR_C_PRICE</td>\n",
       "      <td>0.049528</td>\n",
       "      <td>5.582263</td>\n",
       "    </tr>\n",
       "    <tr>\n",
       "      <th>13</th>\n",
       "      <td>BRAND_A_Redemption</td>\n",
       "      <td>0.049301</td>\n",
       "      <td>5.556718</td>\n",
       "    </tr>\n",
       "    <tr>\n",
       "      <th>36</th>\n",
       "      <td>BRAND_A_NDP</td>\n",
       "      <td>0.047541</td>\n",
       "      <td>5.358399</td>\n",
       "    </tr>\n",
       "    <tr>\n",
       "      <th>22</th>\n",
       "      <td>Yilbasi</td>\n",
       "      <td>0.047528</td>\n",
       "      <td>5.356926</td>\n",
       "    </tr>\n",
       "    <tr>\n",
       "      <th>24</th>\n",
       "      <td>Special_Day2</td>\n",
       "      <td>0.044598</td>\n",
       "      <td>5.026588</td>\n",
       "    </tr>\n",
       "    <tr>\n",
       "      <th>5</th>\n",
       "      <td>COMPETITOR_E_PRICE</td>\n",
       "      <td>0.041939</td>\n",
       "      <td>4.726898</td>\n",
       "    </tr>\n",
       "    <tr>\n",
       "      <th>1</th>\n",
       "      <td>COMPETITOR_A_PRICE</td>\n",
       "      <td>0.039838</td>\n",
       "      <td>4.490113</td>\n",
       "    </tr>\n",
       "    <tr>\n",
       "      <th>11</th>\n",
       "      <td>COMPETITOR_C_Insert</td>\n",
       "      <td>0.029682</td>\n",
       "      <td>3.345504</td>\n",
       "    </tr>\n",
       "    <tr>\n",
       "      <th>27</th>\n",
       "      <td>BRAND_A_ Total_Digital_Spending</td>\n",
       "      <td>0.019393</td>\n",
       "      <td>2.185777</td>\n",
       "    </tr>\n",
       "    <tr>\n",
       "      <th>33</th>\n",
       "      <td>COMPETITOR_E_TOTAL_GRP</td>\n",
       "      <td>0.017324</td>\n",
       "      <td>1.952625</td>\n",
       "    </tr>\n",
       "    <tr>\n",
       "      <th>8</th>\n",
       "      <td>BRAND_A_Insert</td>\n",
       "      <td>0.016115</td>\n",
       "      <td>1.816373</td>\n",
       "    </tr>\n",
       "    <tr>\n",
       "      <th>37</th>\n",
       "      <td>Teshir_Orani_BRAND_A</td>\n",
       "      <td>0.016036</td>\n",
       "      <td>1.807444</td>\n",
       "    </tr>\n",
       "    <tr>\n",
       "      <th>17</th>\n",
       "      <td>Kurban_Bayrami</td>\n",
       "      <td>0.013681</td>\n",
       "      <td>1.541983</td>\n",
       "    </tr>\n",
       "    <tr>\n",
       "      <th>9</th>\n",
       "      <td>COMPETITOR_A_Insert</td>\n",
       "      <td>0.011980</td>\n",
       "      <td>1.350241</td>\n",
       "    </tr>\n",
       "    <tr>\n",
       "      <th>7</th>\n",
       "      <td>COMPETITOR_New product</td>\n",
       "      <td>0.011338</td>\n",
       "      <td>1.277893</td>\n",
       "    </tr>\n",
       "    <tr>\n",
       "      <th>16</th>\n",
       "      <td>COMPETITOR_D_Redemption</td>\n",
       "      <td>0.010590</td>\n",
       "      <td>1.193619</td>\n",
       "    </tr>\n",
       "    <tr>\n",
       "      <th>21</th>\n",
       "      <td>Sevgililier_Günü</td>\n",
       "      <td>0.010487</td>\n",
       "      <td>1.181970</td>\n",
       "    </tr>\n",
       "    <tr>\n",
       "      <th>35</th>\n",
       "      <td>Real_Private_Consumption</td>\n",
       "      <td>0.009704</td>\n",
       "      <td>1.093724</td>\n",
       "    </tr>\n",
       "    <tr>\n",
       "      <th>26</th>\n",
       "      <td>BRAND_A_TOTAL_GRP</td>\n",
       "      <td>0.008343</td>\n",
       "      <td>0.940341</td>\n",
       "    </tr>\n",
       "    <tr>\n",
       "      <th>14</th>\n",
       "      <td>COMPETITOR_B_Redemption</td>\n",
       "      <td>0.006200</td>\n",
       "      <td>0.698798</td>\n",
       "    </tr>\n",
       "    <tr>\n",
       "      <th>15</th>\n",
       "      <td>COMPETITOR_C_Redemption</td>\n",
       "      <td>0.006071</td>\n",
       "      <td>0.684239</td>\n",
       "    </tr>\n",
       "    <tr>\n",
       "      <th>25</th>\n",
       "      <td>Kadınlar_Günü</td>\n",
       "      <td>0.006034</td>\n",
       "      <td>0.680136</td>\n",
       "    </tr>\n",
       "    <tr>\n",
       "      <th>32</th>\n",
       "      <td>COMPETITOR_D_TOTAL_GRP</td>\n",
       "      <td>0.005999</td>\n",
       "      <td>0.676127</td>\n",
       "    </tr>\n",
       "    <tr>\n",
       "      <th>29</th>\n",
       "      <td>BRAND_A_OTHER_CATEGORY_2_GRP</td>\n",
       "      <td>0.004010</td>\n",
       "      <td>0.452022</td>\n",
       "    </tr>\n",
       "    <tr>\n",
       "      <th>10</th>\n",
       "      <td>COMPETITOR_B_Insert</td>\n",
       "      <td>0.003640</td>\n",
       "      <td>0.410215</td>\n",
       "    </tr>\n",
       "    <tr>\n",
       "      <th>28</th>\n",
       "      <td>BRAND_A_OTHER_CATEGORY_1_GRP</td>\n",
       "      <td>0.003236</td>\n",
       "      <td>0.364702</td>\n",
       "    </tr>\n",
       "    <tr>\n",
       "      <th>23</th>\n",
       "      <td>Special_Day1</td>\n",
       "      <td>0.002831</td>\n",
       "      <td>0.319039</td>\n",
       "    </tr>\n",
       "    <tr>\n",
       "      <th>12</th>\n",
       "      <td>COMPETITOR_D_Insert</td>\n",
       "      <td>0.002277</td>\n",
       "      <td>0.256655</td>\n",
       "    </tr>\n",
       "    <tr>\n",
       "      <th>6</th>\n",
       "      <td>BRAND_A_New product</td>\n",
       "      <td>0.001828</td>\n",
       "      <td>0.206019</td>\n",
       "    </tr>\n",
       "    <tr>\n",
       "      <th>30</th>\n",
       "      <td>COMPETITOR_B_TOTAL_GRP</td>\n",
       "      <td>0.001573</td>\n",
       "      <td>0.177240</td>\n",
       "    </tr>\n",
       "    <tr>\n",
       "      <th>34</th>\n",
       "      <td>COMPETITOR_F_TOTAL_GRP</td>\n",
       "      <td>0.001569</td>\n",
       "      <td>0.176879</td>\n",
       "    </tr>\n",
       "    <tr>\n",
       "      <th>31</th>\n",
       "      <td>COMPETITOR_C_TOTAL_GRP</td>\n",
       "      <td>0.001207</td>\n",
       "      <td>0.136050</td>\n",
       "    </tr>\n",
       "    <tr>\n",
       "      <th>20</th>\n",
       "      <td>Babalar_Gunu</td>\n",
       "      <td>0.000636</td>\n",
       "      <td>0.071694</td>\n",
       "    </tr>\n",
       "    <tr>\n",
       "      <th>18</th>\n",
       "      <td>Ramazan_Bayrami</td>\n",
       "      <td>0.000543</td>\n",
       "      <td>0.061151</td>\n",
       "    </tr>\n",
       "    <tr>\n",
       "      <th>19</th>\n",
       "      <td>Anneler_Gunu</td>\n",
       "      <td>0.000457</td>\n",
       "      <td>0.051469</td>\n",
       "    </tr>\n",
       "  </tbody>\n",
       "</table>\n",
       "</div>"
      ],
      "text/plain": [
       "                             driver  rawRelaImpt  normRelaImpt\n",
       "0                     BRAND_A_PRICE     0.151319     17.055119\n",
       "2                COMPETITOR_B_PRICE     0.116164     13.092788\n",
       "4                COMPETITOR_D_PRICE     0.076695      8.644255\n",
       "3                COMPETITOR_C_PRICE     0.049528      5.582263\n",
       "13               BRAND_A_Redemption     0.049301      5.556718\n",
       "36                      BRAND_A_NDP     0.047541      5.358399\n",
       "22                          Yilbasi     0.047528      5.356926\n",
       "24                     Special_Day2     0.044598      5.026588\n",
       "5                COMPETITOR_E_PRICE     0.041939      4.726898\n",
       "1                COMPETITOR_A_PRICE     0.039838      4.490113\n",
       "11              COMPETITOR_C_Insert     0.029682      3.345504\n",
       "27  BRAND_A_ Total_Digital_Spending     0.019393      2.185777\n",
       "33           COMPETITOR_E_TOTAL_GRP     0.017324      1.952625\n",
       "8                    BRAND_A_Insert     0.016115      1.816373\n",
       "37             Teshir_Orani_BRAND_A     0.016036      1.807444\n",
       "17                   Kurban_Bayrami     0.013681      1.541983\n",
       "9               COMPETITOR_A_Insert     0.011980      1.350241\n",
       "7            COMPETITOR_New product     0.011338      1.277893\n",
       "16          COMPETITOR_D_Redemption     0.010590      1.193619\n",
       "21                 Sevgililier_Günü     0.010487      1.181970\n",
       "35         Real_Private_Consumption     0.009704      1.093724\n",
       "26                BRAND_A_TOTAL_GRP     0.008343      0.940341\n",
       "14          COMPETITOR_B_Redemption     0.006200      0.698798\n",
       "15          COMPETITOR_C_Redemption     0.006071      0.684239\n",
       "25                    Kadınlar_Günü     0.006034      0.680136\n",
       "32           COMPETITOR_D_TOTAL_GRP     0.005999      0.676127\n",
       "29     BRAND_A_OTHER_CATEGORY_2_GRP     0.004010      0.452022\n",
       "10              COMPETITOR_B_Insert     0.003640      0.410215\n",
       "28     BRAND_A_OTHER_CATEGORY_1_GRP     0.003236      0.364702\n",
       "23                     Special_Day1     0.002831      0.319039\n",
       "12              COMPETITOR_D_Insert     0.002277      0.256655\n",
       "6               BRAND_A_New product     0.001828      0.206019\n",
       "30           COMPETITOR_B_TOTAL_GRP     0.001573      0.177240\n",
       "34           COMPETITOR_F_TOTAL_GRP     0.001569      0.176879\n",
       "31           COMPETITOR_C_TOTAL_GRP     0.001207      0.136050\n",
       "20                     Babalar_Gunu     0.000636      0.071694\n",
       "18                  Ramazan_Bayrami     0.000543      0.061151\n",
       "19                     Anneler_Gunu     0.000457      0.051469"
      ]
     },
     "execution_count": 16,
     "metadata": {},
     "output_type": "execute_result"
    }
   ],
   "source": [
    "yName =  'BRAND_A_VOLUME'\n",
    "\n",
    "xNames = ['BRAND_A_PRICE', 'COMPETITOR_A_PRICE', 'COMPETITOR_B_PRICE',\n",
    "       'COMPETITOR_C_PRICE', 'COMPETITOR_D_PRICE', 'COMPETITOR_E_PRICE',\n",
    "       'BRAND_A_New product', 'COMPETITOR_New product', 'BRAND_A_Insert',\n",
    "       'COMPETITOR_A_Insert', 'COMPETITOR_B_Insert',\n",
    "       'COMPETITOR_C_Insert', 'COMPETITOR_D_Insert', 'BRAND_A_Redemption',\n",
    "       'COMPETITOR_B_Redemption', 'COMPETITOR_C_Redemption',\n",
    "       'COMPETITOR_D_Redemption', 'Kurban_Bayrami', 'Ramazan_Bayrami',\n",
    "       'Anneler_Gunu', 'Babalar_Gunu', 'Sevgililier_Günü', 'Yilbasi',\n",
    "       'Special_Day1', 'Special_Day2', 'Kadınlar_Günü',\n",
    "       'BRAND_A_TOTAL_GRP', 'BRAND_A_ Total_Digital_Spending',\n",
    "       'BRAND_A_OTHER_CATEGORY_1_GRP', 'BRAND_A_OTHER_CATEGORY_2_GRP',\n",
    "       'COMPETITOR_B_TOTAL_GRP', 'COMPETITOR_C_TOTAL_GRP',\n",
    "       'COMPETITOR_D_TOTAL_GRP', 'COMPETITOR_E_TOTAL_GRP',\n",
    "       'COMPETITOR_F_TOTAL_GRP', 'Real_Private_Consumption',\n",
    "       'BRAND_A_NDP', 'Teshir_Orani_BRAND_A','week_number']\n",
    "\n",
    "results = relativeImp(main_df, outcomeName = yName, driverNames = xNames)\n",
    "sorted_result = results.sort_values(by=['rawRelaImpt','normRelaImpt'],ascending=False)\n",
    "sorted_result.iloc[:10]"
   ]
  },
  {
   "cell_type": "markdown",
   "metadata": {},
   "source": [
    "What is a good R-squared?\n",
    "* <.3 is not good\n",
    "* .3 - .4 is normal\n",
    "* .4 - .5 is great\n",
    "* .5 - .6 is exceptional\n",
    "* \\>.6 is dangerously high, possibly overfitting"
   ]
  },
  {
   "cell_type": "code",
   "execution_count": 17,
   "metadata": {},
   "outputs": [
    {
     "data": {
      "text/plain": [
       "0.8872328754030646"
      ]
     },
     "execution_count": 17,
     "metadata": {},
     "output_type": "execute_result"
    }
   ],
   "source": [
    "print(\"R-SQUARED:\"+str(sum(sorted_result[:6].rawRelaImpt) ))"
   ]
  },
  {
   "cell_type": "code",
   "execution_count": 18,
   "metadata": {},
   "outputs": [
    {
     "name": "stdout",
     "output_type": "stream",
     "text": [
      "Key Sales Drivers:\n",
      "0          BRAND_A_PRICE\n",
      "2     COMPETITOR_B_PRICE\n",
      "4     COMPETITOR_D_PRICE\n",
      "3     COMPETITOR_C_PRICE\n",
      "13    BRAND_A_Redemption\n",
      "36           BRAND_A_NDP\n",
      "Name: driver, dtype: object\n"
     ]
    }
   ],
   "source": [
    "print('Key Sales Drivers:')\n",
    "print(sorted_result[:6].driver)"
   ]
  },
  {
   "cell_type": "code",
   "execution_count": null,
   "metadata": {},
   "outputs": [],
   "source": [
    "sns.set(rc={'figure.figsize':(5,5)})\n",
    "ax = sorted_result[:6][['driver','normRelaImpt']].plot.bar(x='driver',rot=90)"
   ]
  },
  {
   "cell_type": "markdown",
   "metadata": {},
   "source": [
    "We see the Key Sales Drivers for brand A in the graphic above. Of course, the most important factor affecting the sales of brand A is the prices of its competitors and itself. As a result, the priority issue for brand A is to determine the price strategy. It is very important both to keep the profit at the right level and to set a competitive price."
   ]
  },
  {
   "cell_type": "markdown",
   "metadata": {},
   "source": [
    "## Feature Interactions\n",
    "\n",
    "If a machine learning model makes a prediction based on two features, we can decompose the prediction into four terms: a constant term, a term for the first feature, a term for the second feature and a term for the interaction between the two features.\n",
    "The interaction between two features is the change in the prediction that occurs by varying the features after considering the individual feature effects."
   ]
  },
  {
   "cell_type": "code",
   "execution_count": null,
   "metadata": {},
   "outputs": [],
   "source": []
  },
  {
   "cell_type": "code",
   "execution_count": null,
   "metadata": {},
   "outputs": [],
   "source": []
  },
  {
   "cell_type": "code",
   "execution_count": null,
   "metadata": {},
   "outputs": [],
   "source": []
  },
  {
   "cell_type": "markdown",
   "metadata": {},
   "source": [
    "## Price Elasticity\n",
    "\n",
    "Most customers in most markets are sensitive to the price of a product or service, and the assumption is that more people will buy the product or service if it’s cheaper and less will buy it if it’s more expensive. But the phenomenon is more quantifiable than that, and price elasticity shows exactly how responsive customer demand is for a product based on its price.\n",
    "\n",
    "This is the formula for price elasticity of demand:\n",
    "\n",
    "![image.png](data:image/png;base64,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)"
   ]
  },
  {
   "cell_type": "code",
   "execution_count": null,
   "metadata": {},
   "outputs": [],
   "source": [
    "#CALCULATE PRICE ELASTICITY\n",
    "main_df['Elasticity'] = np.nan \n",
    "\n",
    "for i in range(1,len(main_df)):\n",
    "  Q = (main_df['BRAND_A_VOLUME'][i] - main_df['BRAND_A_VOLUME'][i-1]) / ((main_df['BRAND_A_VOLUME'][i] + main_df['BRAND_A_VOLUME'][i-1]))/2 * 100\n",
    "  P = (main_df['BRAND_A_PRICE'][i] - main_df['BRAND_A_PRICE'][i-1]) / ((main_df['BRAND_A_PRICE'][i] + main_df['BRAND_A_PRICE'][i-1]))/2 * 100\n",
    "  main_df['Elasticity'][i] = Q / P"
   ]
  },
  {
   "cell_type": "code",
   "execution_count": null,
   "metadata": {},
   "outputs": [],
   "source": [
    "sns.set(rc={'figure.figsize':(10,5)})\n",
    "main_df['Elasticity'].plot()"
   ]
  },
  {
   "cell_type": "code",
   "execution_count": null,
   "metadata": {},
   "outputs": [],
   "source": [
    "main_df.sort_values(by=['Elasticity'],ascending=True).head()"
   ]
  },
  {
   "cell_type": "code",
   "execution_count": null,
   "metadata": {},
   "outputs": [],
   "source": [
    "main_df.loc['2016-08-15':'2016-08-23',:]"
   ]
  },
  {
   "cell_type": "markdown",
   "metadata": {},
   "source": [
    "When we examine the data of the week with the lowest Price Elasticity value, we see that the sales decreased considerably despite a very small increase in price. If we try to interpret the reasons for this, we see that we have:\n",
    "\n",
    "* In the week in which the price of Brand A increased, the other 3 competitors (Competitor A, B, C) decreased considerably in their prices. This suggests that customers are more likely to switch to other companies.\n",
    "* Competitor D brand, which increased its price together with the A brand, is quite higher than the other companies as TOTAL_GRP that week. This may have affected the A brand as a negative sales return in terms of visibility."
   ]
  },
  {
   "cell_type": "code",
   "execution_count": null,
   "metadata": {},
   "outputs": [],
   "source": [
    "main_df.loc['2017-08-01':'2017-08-15',:]"
   ]
  },
  {
   "cell_type": "markdown",
   "metadata": {},
   "source": [
    "When we examine the data of the week with the highest Price Elasticity value, we see that the sales have increased considerably despite the slight decrease in the price. If we try to interpret the reasons for this, we see that we have:\n",
    "\n",
    "* In the week that brand A lowered its price, the prices of its other 3 competitors (Compatitor A, B, C) increased. This may have affected sales.\n",
    "* In addition, the GRP value of brand A for that week is higher than other companies, that is, TV advertisements can be effective in increasing sales."
   ]
  },
  {
   "cell_type": "code",
   "execution_count": null,
   "metadata": {},
   "outputs": [],
   "source": [
    "x_value = main_df['BRAND_A_PRICE']\n",
    "y_value = main_df['BRAND_A_VOLUME']\n",
    "X = sm.add_constant(x_value)\n",
    "model = sm.OLS(y_value, X)\n",
    "result = model.fit()\n",
    "    \n",
    "if result.f_pvalue < 0.05:\n",
    "  intercept, slope = result.params\n",
    "  mean_price = np.mean(x_value)\n",
    "  mean_quantity = np.mean(y_value)\n",
    "  price_elasticity = (slope)*(mean_price/mean_quantity)"
   ]
  },
  {
   "cell_type": "code",
   "execution_count": null,
   "metadata": {},
   "outputs": [],
   "source": [
    "price_elasticity"
   ]
  },
  {
   "cell_type": "code",
   "execution_count": null,
   "metadata": {},
   "outputs": [],
   "source": [
    "According to the general average, the price elasticity of brand A is -1.84. In other words, against a 1% price increase, sales numbers decrease by 1.84%."
   ]
  },
  {
   "cell_type": "code",
   "execution_count": null,
   "metadata": {},
   "outputs": [],
   "source": []
  }
 ],
 "metadata": {
  "interpreter": {
   "hash": "ad3255bf553fe2c64946e8b6fbfb29ae3475662587d1cb16498b28b31fa43d49"
  },
  "kernelspec": {
   "display_name": "Python 3.9.5 64-bit ('matrixenv': venv)",
   "name": "python3"
  },
  "language_info": {
   "codemirror_mode": {
    "name": "ipython",
    "version": 3
   },
   "file_extension": ".py",
   "mimetype": "text/x-python",
   "name": "python",
   "nbconvert_exporter": "python",
   "pygments_lexer": "ipython3",
   "version": "3.9.5"
  },
  "orig_nbformat": 4
 },
 "nbformat": 4,
 "nbformat_minor": 2
}
