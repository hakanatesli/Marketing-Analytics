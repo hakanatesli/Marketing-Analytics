{
 "cells": [
  {
   "cell_type": "code",
   "execution_count": null,
   "metadata": {},
   "outputs": [
    {
     "ename": "SyntaxError",
     "evalue": "invalid syntax (Temp/ipykernel_16004/985787819.py, line 2)",
     "output_type": "error",
     "traceback": [
      "\u001b[1;36m  File \u001b[1;32m\"C:\\Users\\user\\AppData\\Local\\Temp/ipykernel_16004/985787819.py\"\u001b[1;36m, line \u001b[1;32m2\u001b[0m\n\u001b[1;33m    pip install statsmodels\u001b[0m\n\u001b[1;37m        ^\u001b[0m\n\u001b[1;31mSyntaxError\u001b[0m\u001b[1;31m:\u001b[0m invalid syntax\n"
     ]
    }
   ],
   "source": [
    "#pip install relativeImp\n",
    "#pip install sklearn-gbmi\n",
    "#pip install statsmodels\n",
    "#pip install fbprophet"
   ]
  },
  {
   "cell_type": "code",
   "execution_count": 6,
   "metadata": {},
   "outputs": [],
   "source": [
    "pip install fbprophet"
   ]
  },
  {
   "cell_type": "code",
   "execution_count": null,
   "metadata": {},
   "outputs": [
    {
     "ename": "ModuleNotFoundError",
     "evalue": "No module named 'statsmodels'",
     "output_type": "error",
     "traceback": [
      "\u001b[1;31m---------------------------------------------------------------------------\u001b[0m",
      "\u001b[1;31mModuleNotFoundError\u001b[0m                       Traceback (most recent call last)",
      "\u001b[1;32m~\\AppData\\Local\\Temp/ipykernel_16004/3691605350.py\u001b[0m in \u001b[0;36m<module>\u001b[1;34m\u001b[0m\n\u001b[0;32m     13\u001b[0m \u001b[1;33m\u001b[0m\u001b[0m\n\u001b[0;32m     14\u001b[0m \u001b[1;32mfrom\u001b[0m \u001b[0mrelativeImp\u001b[0m \u001b[1;32mimport\u001b[0m \u001b[0mrelativeImp\u001b[0m\u001b[1;33m\u001b[0m\u001b[1;33m\u001b[0m\u001b[0m\n\u001b[1;32m---> 15\u001b[1;33m \u001b[1;32mimport\u001b[0m \u001b[0mstatsmodels\u001b[0m\u001b[1;33m.\u001b[0m\u001b[0mapi\u001b[0m \u001b[1;32mas\u001b[0m \u001b[0msm\u001b[0m\u001b[1;33m\u001b[0m\u001b[1;33m\u001b[0m\u001b[0m\n\u001b[0m\u001b[0;32m     16\u001b[0m \u001b[1;33m\u001b[0m\u001b[0m\n\u001b[0;32m     17\u001b[0m \u001b[1;32mfrom\u001b[0m \u001b[0msklearn\u001b[0m\u001b[1;33m.\u001b[0m\u001b[0mmodel_selection\u001b[0m \u001b[1;32mimport\u001b[0m \u001b[0mtrain_test_split\u001b[0m\u001b[1;33m\u001b[0m\u001b[1;33m\u001b[0m\u001b[0m\n",
      "\u001b[1;31mModuleNotFoundError\u001b[0m: No module named 'statsmodels'"
     ]
    }
   ],
   "source": [
    "# IMPORTING LIBRARIES\n",
    "import warnings\n",
    "import datetime\n",
    "from datetime import timedelta\n",
    "import pandas as pd\n",
    "import numpy as np\n",
    "import matplotlib.pyplot as plt\n",
    "import seaborn as sns\n",
    "sns.set_style('darkgrid', {'axes.facecolor': '.9'})\n",
    "sns.set_palette(palette='deep')\n",
    "sns_c = sns.color_palette(palette='deep')\n",
    "%matplotlib inline\n",
    "\n",
    "from relativeImp import relativeImp\n",
    "import statsmodels.api as sm\n",
    "\n",
    "from sklearn.model_selection import train_test_split\n",
    "from sklearn.experimental import enable_hist_gradient_boosting\n",
    "from sklearn.ensemble import HistGradientBoostingRegressor, GradientBoostingRegressor\n",
    "from sklearn.inspection import partial_dependence, PartialDependenceDisplay, plot_partial_dependence\n",
    "from sklearn_gbmi import *\n",
    "\n",
    "from fbprophet import Prophet"
   ]
  },
  {
   "cell_type": "code",
   "execution_count": 2,
   "metadata": {},
   "outputs": [],
   "source": [
    "#SETTINGS\n",
    "warnings.filterwarnings(\"ignore\")\n",
    "sns.set(rc={'figure.figsize':(15,15)})"
   ]
  },
  {
   "cell_type": "code",
   "execution_count": 3,
   "metadata": {},
   "outputs": [],
   "source": [
    "#READ DATA\n",
    "sample_data = pd.read_excel('data\\SAMPLE_DATA.xlsx', header = 1)"
   ]
  },
  {
   "cell_type": "code",
   "execution_count": 4,
   "metadata": {},
   "outputs": [],
   "source": [
    "#EXTRACT EXPLANATION \n",
    "explantion = sample_data['Variables']\n",
    "sample_data = sample_data.drop(['Variables'], axis=1)"
   ]
  },
  {
   "cell_type": "code",
   "execution_count": 5,
   "metadata": {},
   "outputs": [],
   "source": [
    "#TRANSPOSE DATA\n",
    "transpose_sample_data = sample_data.T"
   ]
  },
  {
   "cell_type": "code",
   "execution_count": 6,
   "metadata": {},
   "outputs": [],
   "source": [
    "#ADD HEADER\n",
    "main_data = transpose_sample_data.rename(columns=transpose_sample_data.iloc[0]).drop(transpose_sample_data.index[0])"
   ]
  },
  {
   "cell_type": "code",
   "execution_count": 7,
   "metadata": {},
   "outputs": [],
   "source": [
    "main_data.index = pd.to_datetime(main_data.index)"
   ]
  },
  {
   "cell_type": "code",
   "execution_count": 8,
   "metadata": {},
   "outputs": [],
   "source": [
    "main_df = main_data.astype(float)"
   ]
  },
  {
   "cell_type": "code",
   "execution_count": 9,
   "metadata": {},
   "outputs": [],
   "source": [
    "main_df['Date']= main_df.index\n",
    "main_df['Month']= main_df.index.month\n",
    "main_df['Year']= main_df.index.year\n",
    "main_df['week_number'] = main_df.index.isocalendar().week"
   ]
  },
  {
   "cell_type": "code",
   "execution_count": 10,
   "metadata": {},
   "outputs": [
    {
     "data": {
      "text/html": [
       "<div>\n",
       "<style scoped>\n",
       "    .dataframe tbody tr th:only-of-type {\n",
       "        vertical-align: middle;\n",
       "    }\n",
       "\n",
       "    .dataframe tbody tr th {\n",
       "        vertical-align: top;\n",
       "    }\n",
       "\n",
       "    .dataframe thead th {\n",
       "        text-align: right;\n",
       "    }\n",
       "</style>\n",
       "<table border=\"1\" class=\"dataframe\">\n",
       "  <thead>\n",
       "    <tr style=\"text-align: right;\">\n",
       "      <th></th>\n",
       "      <th>BRAND_A_VOLUME</th>\n",
       "      <th>BRAND_A_PRICE</th>\n",
       "      <th>COMPETITOR_A_PRICE</th>\n",
       "      <th>COMPETITOR_B_PRICE</th>\n",
       "      <th>COMPETITOR_C_PRICE</th>\n",
       "      <th>COMPETITOR_D_PRICE</th>\n",
       "      <th>COMPETITOR_E_PRICE</th>\n",
       "      <th>BRAND_A_New product</th>\n",
       "      <th>COMPETITOR_New product</th>\n",
       "      <th>BRAND_A_Insert</th>\n",
       "      <th>...</th>\n",
       "      <th>COMPETITOR_D_TOTAL_GRP</th>\n",
       "      <th>COMPETITOR_E_TOTAL_GRP</th>\n",
       "      <th>COMPETITOR_F_TOTAL_GRP</th>\n",
       "      <th>Real_Private_Consumption</th>\n",
       "      <th>BRAND_A_NDP</th>\n",
       "      <th>Teshir_Orani_BRAND_A</th>\n",
       "      <th>Day</th>\n",
       "      <th>Month</th>\n",
       "      <th>Year</th>\n",
       "      <th>Month-Year</th>\n",
       "    </tr>\n",
       "  </thead>\n",
       "  <tbody>\n",
       "    <tr>\n",
       "      <th>2016-05-02</th>\n",
       "      <td>35232.8</td>\n",
       "      <td>12.593379</td>\n",
       "      <td>11.89</td>\n",
       "      <td>15.37</td>\n",
       "      <td>13.35</td>\n",
       "      <td>11.74</td>\n",
       "      <td>0.0</td>\n",
       "      <td>0.0</td>\n",
       "      <td>0.0</td>\n",
       "      <td>0.0</td>\n",
       "      <td>...</td>\n",
       "      <td>0.0</td>\n",
       "      <td>0.0</td>\n",
       "      <td>0.0</td>\n",
       "      <td>964.074</td>\n",
       "      <td>0.0</td>\n",
       "      <td>0.0</td>\n",
       "      <td>2</td>\n",
       "      <td>5</td>\n",
       "      <td>2016</td>\n",
       "      <td>5-2016</td>\n",
       "    </tr>\n",
       "    <tr>\n",
       "      <th>2016-05-09</th>\n",
       "      <td>155680.4</td>\n",
       "      <td>9.306888</td>\n",
       "      <td>9.51</td>\n",
       "      <td>9.65</td>\n",
       "      <td>9.94</td>\n",
       "      <td>8.36</td>\n",
       "      <td>0.0</td>\n",
       "      <td>0.0</td>\n",
       "      <td>0.0</td>\n",
       "      <td>0.0</td>\n",
       "      <td>...</td>\n",
       "      <td>0.0</td>\n",
       "      <td>0.0</td>\n",
       "      <td>0.0</td>\n",
       "      <td>964.074</td>\n",
       "      <td>0.0</td>\n",
       "      <td>0.0</td>\n",
       "      <td>9</td>\n",
       "      <td>5</td>\n",
       "      <td>2016</td>\n",
       "      <td>5-2016</td>\n",
       "    </tr>\n",
       "    <tr>\n",
       "      <th>2016-05-16</th>\n",
       "      <td>34356.6</td>\n",
       "      <td>12.539075</td>\n",
       "      <td>12.14</td>\n",
       "      <td>15.17</td>\n",
       "      <td>13.04</td>\n",
       "      <td>11.60</td>\n",
       "      <td>0.0</td>\n",
       "      <td>0.0</td>\n",
       "      <td>0.0</td>\n",
       "      <td>0.0</td>\n",
       "      <td>...</td>\n",
       "      <td>0.0</td>\n",
       "      <td>0.0</td>\n",
       "      <td>0.0</td>\n",
       "      <td>964.074</td>\n",
       "      <td>0.0</td>\n",
       "      <td>0.0</td>\n",
       "      <td>16</td>\n",
       "      <td>5</td>\n",
       "      <td>2016</td>\n",
       "      <td>5-2016</td>\n",
       "    </tr>\n",
       "    <tr>\n",
       "      <th>2016-05-23</th>\n",
       "      <td>34145.7</td>\n",
       "      <td>12.915243</td>\n",
       "      <td>12.69</td>\n",
       "      <td>15.61</td>\n",
       "      <td>13.49</td>\n",
       "      <td>11.61</td>\n",
       "      <td>0.0</td>\n",
       "      <td>0.0</td>\n",
       "      <td>0.0</td>\n",
       "      <td>0.0</td>\n",
       "      <td>...</td>\n",
       "      <td>0.0</td>\n",
       "      <td>0.0</td>\n",
       "      <td>0.0</td>\n",
       "      <td>964.074</td>\n",
       "      <td>0.0</td>\n",
       "      <td>0.0</td>\n",
       "      <td>23</td>\n",
       "      <td>5</td>\n",
       "      <td>2016</td>\n",
       "      <td>5-2016</td>\n",
       "    </tr>\n",
       "    <tr>\n",
       "      <th>2016-05-30</th>\n",
       "      <td>35328.5</td>\n",
       "      <td>12.678149</td>\n",
       "      <td>12.31</td>\n",
       "      <td>15.47</td>\n",
       "      <td>13.67</td>\n",
       "      <td>12.17</td>\n",
       "      <td>0.0</td>\n",
       "      <td>0.0</td>\n",
       "      <td>0.0</td>\n",
       "      <td>0.0</td>\n",
       "      <td>...</td>\n",
       "      <td>0.0</td>\n",
       "      <td>0.0</td>\n",
       "      <td>0.0</td>\n",
       "      <td>964.074</td>\n",
       "      <td>0.0</td>\n",
       "      <td>0.0</td>\n",
       "      <td>30</td>\n",
       "      <td>5</td>\n",
       "      <td>2016</td>\n",
       "      <td>5-2016</td>\n",
       "    </tr>\n",
       "  </tbody>\n",
       "</table>\n",
       "<p>5 rows × 43 columns</p>\n",
       "</div>"
      ],
      "text/plain": [
       "            BRAND_A_VOLUME  BRAND_A_PRICE  COMPETITOR_A_PRICE  \\\n",
       "2016-05-02         35232.8      12.593379               11.89   \n",
       "2016-05-09        155680.4       9.306888                9.51   \n",
       "2016-05-16         34356.6      12.539075               12.14   \n",
       "2016-05-23         34145.7      12.915243               12.69   \n",
       "2016-05-30         35328.5      12.678149               12.31   \n",
       "\n",
       "            COMPETITOR_B_PRICE  COMPETITOR_C_PRICE  COMPETITOR_D_PRICE  \\\n",
       "2016-05-02               15.37               13.35               11.74   \n",
       "2016-05-09                9.65                9.94                8.36   \n",
       "2016-05-16               15.17               13.04               11.60   \n",
       "2016-05-23               15.61               13.49               11.61   \n",
       "2016-05-30               15.47               13.67               12.17   \n",
       "\n",
       "            COMPETITOR_E_PRICE  BRAND_A_New product  COMPETITOR_New product  \\\n",
       "2016-05-02                 0.0                  0.0                     0.0   \n",
       "2016-05-09                 0.0                  0.0                     0.0   \n",
       "2016-05-16                 0.0                  0.0                     0.0   \n",
       "2016-05-23                 0.0                  0.0                     0.0   \n",
       "2016-05-30                 0.0                  0.0                     0.0   \n",
       "\n",
       "            BRAND_A_Insert  ...  COMPETITOR_D_TOTAL_GRP  \\\n",
       "2016-05-02             0.0  ...                     0.0   \n",
       "2016-05-09             0.0  ...                     0.0   \n",
       "2016-05-16             0.0  ...                     0.0   \n",
       "2016-05-23             0.0  ...                     0.0   \n",
       "2016-05-30             0.0  ...                     0.0   \n",
       "\n",
       "            COMPETITOR_E_TOTAL_GRP  COMPETITOR_F_TOTAL_GRP  \\\n",
       "2016-05-02                     0.0                     0.0   \n",
       "2016-05-09                     0.0                     0.0   \n",
       "2016-05-16                     0.0                     0.0   \n",
       "2016-05-23                     0.0                     0.0   \n",
       "2016-05-30                     0.0                     0.0   \n",
       "\n",
       "            Real_Private_Consumption  BRAND_A_NDP  Teshir_Orani_BRAND_A  Day  \\\n",
       "2016-05-02                   964.074          0.0                   0.0    2   \n",
       "2016-05-09                   964.074          0.0                   0.0    9   \n",
       "2016-05-16                   964.074          0.0                   0.0   16   \n",
       "2016-05-23                   964.074          0.0                   0.0   23   \n",
       "2016-05-30                   964.074          0.0                   0.0   30   \n",
       "\n",
       "            Month  Year  Month-Year  \n",
       "2016-05-02      5  2016      5-2016  \n",
       "2016-05-09      5  2016      5-2016  \n",
       "2016-05-16      5  2016      5-2016  \n",
       "2016-05-23      5  2016      5-2016  \n",
       "2016-05-30      5  2016      5-2016  \n",
       "\n",
       "[5 rows x 43 columns]"
      ]
     },
     "execution_count": 10,
     "metadata": {},
     "output_type": "execute_result"
    }
   ],
   "source": [
    "main_df.head(5)"
   ]
  },
  {
   "cell_type": "code",
   "execution_count": null,
   "metadata": {},
   "outputs": [],
   "source": [
    "main_df.describe().transpose()"
   ]
  },
  {
   "cell_type": "markdown",
   "metadata": {},
   "source": [
    "### Correlation HeatMap\n",
    "\n",
    "Pearson’s correlation coefficient is the test statistics that measures the statistical relationship, or association, between two continuous variables.  It is known as the best method of measuring the association between variables of interest because it is based on the method of covariance.  It gives information about the magnitude of the association, or correlation, as well as the direction of the relationship."
   ]
  },
  {
   "cell_type": "code",
   "execution_count": 11,
   "metadata": {},
   "outputs": [],
   "source": [
    "corr = main_df.corr()\n",
    "sns.set(rc={'figure.figsize':(12,10)})\n",
    "sns.heatmap(corr,cmap=\"YlGnBu\")"
   ]
  },
  {
   "cell_type": "markdown",
   "metadata": {},
   "source": [
    "* It is obvious that sales are inversely related to prices.\n",
    "* Prices decrease on holidays.\n",
    "* As the number of months increases, the rate of entering store magazines decreases."
   ]
  },
  {
   "cell_type": "markdown",
   "metadata": {},
   "source": [
    "### Key-Driver Analysis\n",
    "\n",
    "Key Driver Analysis is a methodology branded in market research, called Relative Weights Analysis in Data Science (which can be either Shapley or Johnson's method). Key Drivers Analysis identifies how much each of the predictor variables (the drivers) are moving the depentor variable (key metric, key performance indicator aka KPI). In other words, \"what are the drivers of your key metric?\"\n",
    "\n",
    "Relative importance or relative weight analysis is a method to “partition explained variance among multiple predictors to better understand the role played by each predictor in a regression equation” [(Tonidandel & LeBreton, 2011)](https://www.scotttonidandel.com/rwa-web). \n",
    "\n",
    "As drivers are often highly correlated with each other, typical multiple regression analysis would produce flawed indicators of driver importance. Instead, we adopt the relative weight analysis approach which accurately partitions variance among the correlated drivers."
   ]
  },
  {
   "cell_type": "code",
   "execution_count": 16,
   "metadata": {},
   "outputs": [
    {
     "data": {
      "text/html": [
       "<div>\n",
       "<style scoped>\n",
       "    .dataframe tbody tr th:only-of-type {\n",
       "        vertical-align: middle;\n",
       "    }\n",
       "\n",
       "    .dataframe tbody tr th {\n",
       "        vertical-align: top;\n",
       "    }\n",
       "\n",
       "    .dataframe thead th {\n",
       "        text-align: right;\n",
       "    }\n",
       "</style>\n",
       "<table border=\"1\" class=\"dataframe\">\n",
       "  <thead>\n",
       "    <tr style=\"text-align: right;\">\n",
       "      <th></th>\n",
       "      <th>driver</th>\n",
       "      <th>rawRelaImpt</th>\n",
       "      <th>normRelaImpt</th>\n",
       "    </tr>\n",
       "  </thead>\n",
       "  <tbody>\n",
       "    <tr>\n",
       "      <th>0</th>\n",
       "      <td>BRAND_A_PRICE</td>\n",
       "      <td>0.151319</td>\n",
       "      <td>17.055119</td>\n",
       "    </tr>\n",
       "    <tr>\n",
       "      <th>2</th>\n",
       "      <td>COMPETITOR_B_PRICE</td>\n",
       "      <td>0.116164</td>\n",
       "      <td>13.092788</td>\n",
       "    </tr>\n",
       "    <tr>\n",
       "      <th>4</th>\n",
       "      <td>COMPETITOR_D_PRICE</td>\n",
       "      <td>0.076695</td>\n",
       "      <td>8.644255</td>\n",
       "    </tr>\n",
       "    <tr>\n",
       "      <th>3</th>\n",
       "      <td>COMPETITOR_C_PRICE</td>\n",
       "      <td>0.049528</td>\n",
       "      <td>5.582263</td>\n",
       "    </tr>\n",
       "    <tr>\n",
       "      <th>13</th>\n",
       "      <td>BRAND_A_Redemption</td>\n",
       "      <td>0.049301</td>\n",
       "      <td>5.556718</td>\n",
       "    </tr>\n",
       "    <tr>\n",
       "      <th>36</th>\n",
       "      <td>BRAND_A_NDP</td>\n",
       "      <td>0.047541</td>\n",
       "      <td>5.358399</td>\n",
       "    </tr>\n",
       "    <tr>\n",
       "      <th>22</th>\n",
       "      <td>Yilbasi</td>\n",
       "      <td>0.047528</td>\n",
       "      <td>5.356926</td>\n",
       "    </tr>\n",
       "    <tr>\n",
       "      <th>24</th>\n",
       "      <td>Special_Day2</td>\n",
       "      <td>0.044598</td>\n",
       "      <td>5.026588</td>\n",
       "    </tr>\n",
       "    <tr>\n",
       "      <th>5</th>\n",
       "      <td>COMPETITOR_E_PRICE</td>\n",
       "      <td>0.041939</td>\n",
       "      <td>4.726898</td>\n",
       "    </tr>\n",
       "    <tr>\n",
       "      <th>1</th>\n",
       "      <td>COMPETITOR_A_PRICE</td>\n",
       "      <td>0.039838</td>\n",
       "      <td>4.490113</td>\n",
       "    </tr>\n",
       "    <tr>\n",
       "      <th>11</th>\n",
       "      <td>COMPETITOR_C_Insert</td>\n",
       "      <td>0.029682</td>\n",
       "      <td>3.345504</td>\n",
       "    </tr>\n",
       "    <tr>\n",
       "      <th>27</th>\n",
       "      <td>BRAND_A_ Total_Digital_Spending</td>\n",
       "      <td>0.019393</td>\n",
       "      <td>2.185777</td>\n",
       "    </tr>\n",
       "    <tr>\n",
       "      <th>33</th>\n",
       "      <td>COMPETITOR_E_TOTAL_GRP</td>\n",
       "      <td>0.017324</td>\n",
       "      <td>1.952625</td>\n",
       "    </tr>\n",
       "    <tr>\n",
       "      <th>8</th>\n",
       "      <td>BRAND_A_Insert</td>\n",
       "      <td>0.016115</td>\n",
       "      <td>1.816373</td>\n",
       "    </tr>\n",
       "    <tr>\n",
       "      <th>37</th>\n",
       "      <td>Teshir_Orani_BRAND_A</td>\n",
       "      <td>0.016036</td>\n",
       "      <td>1.807444</td>\n",
       "    </tr>\n",
       "    <tr>\n",
       "      <th>17</th>\n",
       "      <td>Kurban_Bayrami</td>\n",
       "      <td>0.013681</td>\n",
       "      <td>1.541983</td>\n",
       "    </tr>\n",
       "    <tr>\n",
       "      <th>9</th>\n",
       "      <td>COMPETITOR_A_Insert</td>\n",
       "      <td>0.011980</td>\n",
       "      <td>1.350241</td>\n",
       "    </tr>\n",
       "    <tr>\n",
       "      <th>7</th>\n",
       "      <td>COMPETITOR_New product</td>\n",
       "      <td>0.011338</td>\n",
       "      <td>1.277893</td>\n",
       "    </tr>\n",
       "    <tr>\n",
       "      <th>16</th>\n",
       "      <td>COMPETITOR_D_Redemption</td>\n",
       "      <td>0.010590</td>\n",
       "      <td>1.193619</td>\n",
       "    </tr>\n",
       "    <tr>\n",
       "      <th>21</th>\n",
       "      <td>Sevgililier_Günü</td>\n",
       "      <td>0.010487</td>\n",
       "      <td>1.181970</td>\n",
       "    </tr>\n",
       "    <tr>\n",
       "      <th>35</th>\n",
       "      <td>Real_Private_Consumption</td>\n",
       "      <td>0.009704</td>\n",
       "      <td>1.093724</td>\n",
       "    </tr>\n",
       "    <tr>\n",
       "      <th>26</th>\n",
       "      <td>BRAND_A_TOTAL_GRP</td>\n",
       "      <td>0.008343</td>\n",
       "      <td>0.940341</td>\n",
       "    </tr>\n",
       "    <tr>\n",
       "      <th>14</th>\n",
       "      <td>COMPETITOR_B_Redemption</td>\n",
       "      <td>0.006200</td>\n",
       "      <td>0.698798</td>\n",
       "    </tr>\n",
       "    <tr>\n",
       "      <th>15</th>\n",
       "      <td>COMPETITOR_C_Redemption</td>\n",
       "      <td>0.006071</td>\n",
       "      <td>0.684239</td>\n",
       "    </tr>\n",
       "    <tr>\n",
       "      <th>25</th>\n",
       "      <td>Kadınlar_Günü</td>\n",
       "      <td>0.006034</td>\n",
       "      <td>0.680136</td>\n",
       "    </tr>\n",
       "    <tr>\n",
       "      <th>32</th>\n",
       "      <td>COMPETITOR_D_TOTAL_GRP</td>\n",
       "      <td>0.005999</td>\n",
       "      <td>0.676127</td>\n",
       "    </tr>\n",
       "    <tr>\n",
       "      <th>29</th>\n",
       "      <td>BRAND_A_OTHER_CATEGORY_2_GRP</td>\n",
       "      <td>0.004010</td>\n",
       "      <td>0.452022</td>\n",
       "    </tr>\n",
       "    <tr>\n",
       "      <th>10</th>\n",
       "      <td>COMPETITOR_B_Insert</td>\n",
       "      <td>0.003640</td>\n",
       "      <td>0.410215</td>\n",
       "    </tr>\n",
       "    <tr>\n",
       "      <th>28</th>\n",
       "      <td>BRAND_A_OTHER_CATEGORY_1_GRP</td>\n",
       "      <td>0.003236</td>\n",
       "      <td>0.364702</td>\n",
       "    </tr>\n",
       "    <tr>\n",
       "      <th>23</th>\n",
       "      <td>Special_Day1</td>\n",
       "      <td>0.002831</td>\n",
       "      <td>0.319039</td>\n",
       "    </tr>\n",
       "    <tr>\n",
       "      <th>12</th>\n",
       "      <td>COMPETITOR_D_Insert</td>\n",
       "      <td>0.002277</td>\n",
       "      <td>0.256655</td>\n",
       "    </tr>\n",
       "    <tr>\n",
       "      <th>6</th>\n",
       "      <td>BRAND_A_New product</td>\n",
       "      <td>0.001828</td>\n",
       "      <td>0.206019</td>\n",
       "    </tr>\n",
       "    <tr>\n",
       "      <th>30</th>\n",
       "      <td>COMPETITOR_B_TOTAL_GRP</td>\n",
       "      <td>0.001573</td>\n",
       "      <td>0.177240</td>\n",
       "    </tr>\n",
       "    <tr>\n",
       "      <th>34</th>\n",
       "      <td>COMPETITOR_F_TOTAL_GRP</td>\n",
       "      <td>0.001569</td>\n",
       "      <td>0.176879</td>\n",
       "    </tr>\n",
       "    <tr>\n",
       "      <th>31</th>\n",
       "      <td>COMPETITOR_C_TOTAL_GRP</td>\n",
       "      <td>0.001207</td>\n",
       "      <td>0.136050</td>\n",
       "    </tr>\n",
       "    <tr>\n",
       "      <th>20</th>\n",
       "      <td>Babalar_Gunu</td>\n",
       "      <td>0.000636</td>\n",
       "      <td>0.071694</td>\n",
       "    </tr>\n",
       "    <tr>\n",
       "      <th>18</th>\n",
       "      <td>Ramazan_Bayrami</td>\n",
       "      <td>0.000543</td>\n",
       "      <td>0.061151</td>\n",
       "    </tr>\n",
       "    <tr>\n",
       "      <th>19</th>\n",
       "      <td>Anneler_Gunu</td>\n",
       "      <td>0.000457</td>\n",
       "      <td>0.051469</td>\n",
       "    </tr>\n",
       "  </tbody>\n",
       "</table>\n",
       "</div>"
      ],
      "text/plain": [
       "                             driver  rawRelaImpt  normRelaImpt\n",
       "0                     BRAND_A_PRICE     0.151319     17.055119\n",
       "2                COMPETITOR_B_PRICE     0.116164     13.092788\n",
       "4                COMPETITOR_D_PRICE     0.076695      8.644255\n",
       "3                COMPETITOR_C_PRICE     0.049528      5.582263\n",
       "13               BRAND_A_Redemption     0.049301      5.556718\n",
       "36                      BRAND_A_NDP     0.047541      5.358399\n",
       "22                          Yilbasi     0.047528      5.356926\n",
       "24                     Special_Day2     0.044598      5.026588\n",
       "5                COMPETITOR_E_PRICE     0.041939      4.726898\n",
       "1                COMPETITOR_A_PRICE     0.039838      4.490113\n",
       "11              COMPETITOR_C_Insert     0.029682      3.345504\n",
       "27  BRAND_A_ Total_Digital_Spending     0.019393      2.185777\n",
       "33           COMPETITOR_E_TOTAL_GRP     0.017324      1.952625\n",
       "8                    BRAND_A_Insert     0.016115      1.816373\n",
       "37             Teshir_Orani_BRAND_A     0.016036      1.807444\n",
       "17                   Kurban_Bayrami     0.013681      1.541983\n",
       "9               COMPETITOR_A_Insert     0.011980      1.350241\n",
       "7            COMPETITOR_New product     0.011338      1.277893\n",
       "16          COMPETITOR_D_Redemption     0.010590      1.193619\n",
       "21                 Sevgililier_Günü     0.010487      1.181970\n",
       "35         Real_Private_Consumption     0.009704      1.093724\n",
       "26                BRAND_A_TOTAL_GRP     0.008343      0.940341\n",
       "14          COMPETITOR_B_Redemption     0.006200      0.698798\n",
       "15          COMPETITOR_C_Redemption     0.006071      0.684239\n",
       "25                    Kadınlar_Günü     0.006034      0.680136\n",
       "32           COMPETITOR_D_TOTAL_GRP     0.005999      0.676127\n",
       "29     BRAND_A_OTHER_CATEGORY_2_GRP     0.004010      0.452022\n",
       "10              COMPETITOR_B_Insert     0.003640      0.410215\n",
       "28     BRAND_A_OTHER_CATEGORY_1_GRP     0.003236      0.364702\n",
       "23                     Special_Day1     0.002831      0.319039\n",
       "12              COMPETITOR_D_Insert     0.002277      0.256655\n",
       "6               BRAND_A_New product     0.001828      0.206019\n",
       "30           COMPETITOR_B_TOTAL_GRP     0.001573      0.177240\n",
       "34           COMPETITOR_F_TOTAL_GRP     0.001569      0.176879\n",
       "31           COMPETITOR_C_TOTAL_GRP     0.001207      0.136050\n",
       "20                     Babalar_Gunu     0.000636      0.071694\n",
       "18                  Ramazan_Bayrami     0.000543      0.061151\n",
       "19                     Anneler_Gunu     0.000457      0.051469"
      ]
     },
     "execution_count": 16,
     "metadata": {},
     "output_type": "execute_result"
    }
   ],
   "source": [
    "yName =  'BRAND_A_VOLUME'\n",
    "\n",
    "xNames = ['BRAND_A_PRICE', 'COMPETITOR_A_PRICE', 'COMPETITOR_B_PRICE',\n",
    "       'COMPETITOR_C_PRICE', 'COMPETITOR_D_PRICE', 'COMPETITOR_E_PRICE',\n",
    "       'BRAND_A_New product', 'COMPETITOR_New product', 'BRAND_A_Insert',\n",
    "       'COMPETITOR_A_Insert', 'COMPETITOR_B_Insert',\n",
    "       'COMPETITOR_C_Insert', 'COMPETITOR_D_Insert', 'BRAND_A_Redemption',\n",
    "       'COMPETITOR_B_Redemption', 'COMPETITOR_C_Redemption',\n",
    "       'COMPETITOR_D_Redemption', 'Kurban_Bayrami', 'Ramazan_Bayrami',\n",
    "       'Anneler_Gunu', 'Babalar_Gunu', 'Sevgililier_Günü', 'Yilbasi',\n",
    "       'Special_Day1', 'Special_Day2', 'Kadınlar_Günü',\n",
    "       'BRAND_A_TOTAL_GRP', 'BRAND_A_ Total_Digital_Spending',\n",
    "       'BRAND_A_OTHER_CATEGORY_1_GRP', 'BRAND_A_OTHER_CATEGORY_2_GRP',\n",
    "       'COMPETITOR_B_TOTAL_GRP', 'COMPETITOR_C_TOTAL_GRP',\n",
    "       'COMPETITOR_D_TOTAL_GRP', 'COMPETITOR_E_TOTAL_GRP',\n",
    "       'COMPETITOR_F_TOTAL_GRP', 'Real_Private_Consumption',\n",
    "       'BRAND_A_NDP', 'Teshir_Orani_BRAND_A','week_number']\n",
    "\n",
    "results = relativeImp(main_df, outcomeName = yName, driverNames = xNames)\n",
    "sorted_result = results.sort_values(by=['rawRelaImpt','normRelaImpt'],ascending=False)\n",
    "sorted_result.iloc[:10]"
   ]
  },
  {
   "cell_type": "markdown",
   "metadata": {},
   "source": [
    "What is a good R-squared?\n",
    "* <.3 is not good\n",
    "* .3 - .4 is normal\n",
    "* .4 - .5 is great\n",
    "* .5 - .6 is exceptional\n",
    "* \\>.6 is dangerously high, possibly overfitting"
   ]
  },
  {
   "cell_type": "code",
   "execution_count": 17,
   "metadata": {},
   "outputs": [
    {
     "data": {
      "text/plain": [
       "0.8872328754030646"
      ]
     },
     "execution_count": 17,
     "metadata": {},
     "output_type": "execute_result"
    }
   ],
   "source": [
    "print(\"R-SQUARED:\"+str(sum(sorted_result[:6].rawRelaImpt) ))"
   ]
  },
  {
   "cell_type": "code",
   "execution_count": 18,
   "metadata": {},
   "outputs": [
    {
     "name": "stdout",
     "output_type": "stream",
     "text": [
      "Key Sales Drivers:\n",
      "0          BRAND_A_PRICE\n",
      "2     COMPETITOR_B_PRICE\n",
      "4     COMPETITOR_D_PRICE\n",
      "3     COMPETITOR_C_PRICE\n",
      "13    BRAND_A_Redemption\n",
      "36           BRAND_A_NDP\n",
      "Name: driver, dtype: object\n"
     ]
    }
   ],
   "source": [
    "print('Key Sales Drivers:')\n",
    "print(sorted_result[:6].driver)"
   ]
  },
  {
   "cell_type": "code",
   "execution_count": null,
   "metadata": {},
   "outputs": [],
   "source": [
    "sns.set(rc={'figure.figsize':(5,5)})\n",
    "ax = sorted_result[:6][['driver','normRelaImpt']].plot.bar(x='driver',rot=90)"
   ]
  },
  {
   "cell_type": "markdown",
   "metadata": {},
   "source": [
    "We see the Key Sales Drivers for brand A in the graphic above. Of course, the most important factor affecting the sales of brand A is the prices of its competitors and itself. As a result, the priority issue for brand A is to determine the price strategy. It is very important both to keep the profit at the right level and to set a competitive price."
   ]
  },
  {
   "cell_type": "markdown",
   "metadata": {},
   "source": [
    "## Feature Interactions\n",
    "\n",
    "If a machine learning model makes a prediction based on two features, we can decompose the prediction into four terms: a constant term, a term for the first feature, a term for the second feature and a term for the interaction between the two features.\n",
    "The interaction between two features is the change in the prediction that occurs by varying the features after considering the individual feature effects."
   ]
  },
  {
   "cell_type": "code",
   "execution_count": null,
   "metadata": {},
   "outputs": [],
   "source": []
  },
  {
   "cell_type": "code",
   "execution_count": null,
   "metadata": {},
   "outputs": [],
   "source": []
  },
  {
   "cell_type": "code",
   "execution_count": null,
   "metadata": {},
   "outputs": [],
   "source": []
  },
  {
   "cell_type": "markdown",
   "metadata": {},
   "source": [
    "## Price Elasticity\n",
    "\n",
    "Most customers in most markets are sensitive to the price of a product or service, and the assumption is that more people will buy the product or service if it’s cheaper and less will buy it if it’s more expensive. But the phenomenon is more quantifiable than that, and price elasticity shows exactly how responsive customer demand is for a product based on its price.\n",
    "\n",
    "This is the formula for price elasticity of demand:\n",
    "\n",
    "![image.png](data:image/png;base64,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)"
   ]
  },
  {
   "cell_type": "code",
   "execution_count": null,
   "metadata": {},
   "outputs": [],
   "source": [
    "#CALCULATE PRICE ELASTICITY\n",
    "main_df['Elasticity'] = np.nan \n",
    "\n",
    "for i in range(1,len(main_df)):\n",
    "  Q = (main_df['BRAND_A_VOLUME'][i] - main_df['BRAND_A_VOLUME'][i-1]) / ((main_df['BRAND_A_VOLUME'][i] + main_df['BRAND_A_VOLUME'][i-1]))/2 * 100\n",
    "  P = (main_df['BRAND_A_PRICE'][i] - main_df['BRAND_A_PRICE'][i-1]) / ((main_df['BRAND_A_PRICE'][i] + main_df['BRAND_A_PRICE'][i-1]))/2 * 100\n",
    "  main_df['Elasticity'][i] = Q / P"
   ]
  },
  {
   "cell_type": "code",
   "execution_count": null,
   "metadata": {},
   "outputs": [],
   "source": [
    "sns.set(rc={'figure.figsize':(10,5)})\n",
    "main_df['Elasticity'].plot()"
   ]
  },
  {
   "cell_type": "code",
   "execution_count": null,
   "metadata": {},
   "outputs": [],
   "source": [
    "main_df.sort_values(by=['Elasticity'],ascending=True).head()"
   ]
  },
  {
   "cell_type": "code",
   "execution_count": null,
   "metadata": {},
   "outputs": [],
   "source": [
    "main_df.loc['2016-08-15':'2016-08-23',:]"
   ]
  },
  {
   "cell_type": "markdown",
   "metadata": {},
   "source": [
    "When we examine the data of the week with the lowest Price Elasticity value, we see that the sales decreased considerably despite a very small increase in price. If we try to interpret the reasons for this, we see that we have:\n",
    "\n",
    "* In the week in which the price of Brand A increased, the other 3 competitors (Competitor A, B, C) decreased considerably in their prices. This suggests that customers are more likely to switch to other companies.\n",
    "* Competitor D brand, which increased its price together with the A brand, is quite higher than the other companies as TOTAL_GRP that week. This may have affected the A brand as a negative sales return in terms of visibility."
   ]
  },
  {
   "cell_type": "code",
   "execution_count": null,
   "metadata": {},
   "outputs": [],
   "source": [
    "main_df.loc['2017-08-01':'2017-08-15',:]"
   ]
  },
  {
   "cell_type": "markdown",
   "metadata": {},
   "source": [
    "When we examine the data of the week with the highest Price Elasticity value, we see that the sales have increased considerably despite the slight decrease in the price. If we try to interpret the reasons for this, we see that we have:\n",
    "\n",
    "* In the week that brand A lowered its price, the prices of its other 3 competitors (Compatitor A, B, C) increased. This may have affected sales.\n",
    "* In addition, the GRP value of brand A for that week is higher than other companies, that is, TV advertisements can be effective in increasing sales."
   ]
  },
  {
   "cell_type": "code",
   "execution_count": null,
   "metadata": {},
   "outputs": [],
   "source": [
    "x_value = main_df['BRAND_A_PRICE']\n",
    "y_value = main_df['BRAND_A_VOLUME']\n",
    "X = sm.add_constant(x_value)\n",
    "model = sm.OLS(y_value, X)\n",
    "result = model.fit()\n",
    "    \n",
    "if result.f_pvalue < 0.05:\n",
    "  intercept, slope = result.params\n",
    "  mean_price = np.mean(x_value)\n",
    "  mean_quantity = np.mean(y_value)\n",
    "  price_elasticity = (slope)*(mean_price/mean_quantity)"
   ]
  },
  {
   "cell_type": "code",
   "execution_count": null,
   "metadata": {},
   "outputs": [],
   "source": [
    "price_elasticity"
   ]
  },
  {
   "cell_type": "markdown",
   "metadata": {},
   "source": [
    "According to the general average, the price elasticity of brand A is -1.84. In other words, against a 1% price increase, sales numbers decrease by 1.84%."
   ]
  },
  {
   "cell_type": "markdown",
   "metadata": {},
   "source": [
    "## Optimum Price Index\n",
    "\n",
    "Price Index is the metric that shows your price positioning in the market. We’ll talk about how observing the price index helps in improving sales, controlling the positioning of your brand, and finding loopholes to rise among competitors.\n",
    "\n",
    "For a single product and competitor, it’s quite simple.\n",
    "\n",
    "![image.png](data:image/png;base64,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)\n",
    "\n",
    "Divide the competitor’s price by yours and multiply it by 100.\n",
    "\n",
    "![image.png](data:image/png;base64,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)"
   ]
  },
  {
   "cell_type": "code",
   "execution_count": null,
   "metadata": {},
   "outputs": [],
   "source": [
    "prices = main_df[['BRAND_A_PRICE', 'COMPETITOR_A_PRICE', 'COMPETITOR_B_PRICE',\n",
    "       'COMPETITOR_C_PRICE', 'COMPETITOR_D_PRICE','COMPETITOR_E_PRICE','BRAND_A_VOLUME']]"
   ]
  },
  {
   "cell_type": "code",
   "execution_count": null,
   "metadata": {},
   "outputs": [],
   "source": [
    "#The price information of the E brand came after a certain period of time.\n",
    "prices['Competitor_Count'] = 4\n",
    "prices.loc['2018-10-09':,'Competitor_Count'] = 5"
   ]
  },
  {
   "cell_type": "code",
   "execution_count": null,
   "metadata": {},
   "outputs": [],
   "source": [
    "PI = (((prices.iloc[:,1]/prices.iloc[:,0])\n",
    "     + (prices.iloc[:,2]/prices.iloc[:,0])\n",
    "     + (prices.iloc[:,3]/prices.iloc[:,0])\n",
    "     + (prices.iloc[:,4]/prices.iloc[:,0])\n",
    "     + (prices.iloc[:,5]/prices.iloc[:,0]))*100) / prices.iloc[:,7]"
   ]
  },
  {
   "cell_type": "code",
   "execution_count": null,
   "metadata": {},
   "outputs": [],
   "source": [
    "prices['BRAND_A_PI'] = (prices.iloc[:,0]/prices.iloc[:,0])*100 \n",
    "prices['COMPETITOR_A_PI'] = (prices.iloc[:,1]/prices.iloc[:,0])*100 \n",
    "prices['COMPETITOR_B_PI'] = (prices.iloc[:,2]/prices.iloc[:,0])*100 \n",
    "prices['COMPETITOR_C_PI'] = (prices.iloc[:,3]/prices.iloc[:,0])*100 \n",
    "prices['COMPETITOR_D_PI'] = (prices.iloc[:,4]/prices.iloc[:,0])*100 \n",
    "prices['COMPETITOR_E_PI'] = (prices.iloc[:,5]/prices.iloc[:,0])*100 \n",
    "prices['PI'] = PI"
   ]
  },
  {
   "cell_type": "code",
   "execution_count": null,
   "metadata": {},
   "outputs": [],
   "source": [
    "sns.set(rc={'figure.figsize':(25,10)})\n",
    "prices[['BRAND_A_PI','COMPETITOR_A_PI','COMPETITOR_B_PI','COMPETITOR_C_PI','COMPETITOR_D_PI','COMPETITOR_E_PI']].plot()"
   ]
  },
  {
   "cell_type": "code",
   "execution_count": null,
   "metadata": {},
   "outputs": [],
   "source": [
    "sns.set(rc={'figure.figsize':(30,10)})\n",
    "colors = {1.0:'green', 0.0:'blue'}\n",
    "fig = plt.figure()\n",
    "\n",
    "ax = prices['BRAND_A_VOLUME'].plot(kind='bar', use_index=True)\n",
    "ax.patch.set_facecolor('white')\n",
    "ax.patch.set_alpha(0.0)\n",
    "ax2 = ax.twinx()\n",
    "ax2.plot(prices['PI'].values, linestyle='-', marker='o', linewidth=2.0, color='red')"
   ]
  },
  {
   "cell_type": "code",
   "execution_count": null,
   "metadata": {},
   "outputs": [],
   "source": [
    "sns.set(rc={'figure.figsize':(30,10)})\n",
    "colors = {1.0:'green', 0.0:'blue'}\n",
    "fig = plt.figure()\n",
    "\n",
    "ax = prices['BRAND_A_VOLUME'].plot(kind='bar', use_index=True)\n",
    "ax.patch.set_facecolor('white')\n",
    "ax.patch.set_alpha(0.0)\n",
    "ax2 = ax.twinx()\n",
    "ax2.plot(prices[['BRAND_A_PI','COMPETITOR_A_PI','COMPETITOR_B_PI','COMPETITOR_C_PI','COMPETITOR_D_PI','COMPETITOR_E_PI']].values, linestyle='-', marker='o', linewidth=2.0)"
   ]
  },
  {
   "cell_type": "markdown",
   "metadata": {},
   "source": [
    "## Forecast"
   ]
  },
  {
   "cell_type": "markdown",
   "metadata": {},
   "source": [
    "df = main_df[['BRAND_A_VOLUME']]\n",
    "df['Date'] = main_df.index\n",
    "df = df[['Date','BRAND_A_VOLUME']]"
   ]
  },
  {
   "cell_type": "code",
   "execution_count": null,
   "metadata": {},
   "outputs": [],
   "source": [
    "df = df.reset_index().drop(['index'],axis=1)\n",
    "df.columns = ['ds', 'y']"
   ]
  },
  {
   "cell_type": "code",
   "execution_count": null,
   "metadata": {},
   "outputs": [],
   "source": [
    "threshold_date = pd.to_datetime('2018-12-10')\n",
    "mask = df['ds'] < threshold_date\n",
    "df_train = df[mask][['ds', 'y']]\n",
    "df_test = df[~ mask][['ds', 'y']]"
   ]
  },
  {
   "cell_type": "code",
   "execution_count": null,
   "metadata": {},
   "outputs": [],
   "source": [
    "def create_holidays_df():\n",
    "    holidays = pd.DataFrame({\n",
    "      'holiday': 'end_of_year',\n",
    "      'ds': pd.to_datetime(\n",
    "          ['2016-05-02', '2016-06-13', '2016-07-04', '2016-09-12',\n",
    "               '2016-12-26', '2017-02-13', '2017-03-06', '2017-05-08',\n",
    "               '2017-05-22', '2017-06-12', '2017-08-21', '2017-08-28',\n",
    "               '2017-09-04', '2017-11-06', '2017-11-13', '2017-11-20',\n",
    "               '2017-11-27', '2017-12-25', '2018-02-12', '2018-03-05',\n",
    "               '2018-05-07', '2018-08-20', '2018-10-22', '2018-12-24',\n",
    "               '2018-12-31', '2019-02-11', '2019-03-04', '2019-05-06']\n",
    "      ),\n",
    "      'lower_window': -7,\n",
    "      'upper_window': 7,\n",
    "    })\n",
    "    return holidays"
   ]
  },
  {
   "cell_type": "code",
   "execution_count": null,
   "metadata": {},
   "outputs": [],
   "source": [
    "def build_model():\n",
    "    holidays = create_holidays_df()\n",
    "    \n",
    "    model = Prophet(\n",
    "        yearly_seasonality=True,\n",
    "        weekly_seasonality=False,\n",
    "        daily_seasonality=False, \n",
    "        holidays = holidays, \n",
    "        interval_width=0.95, \n",
    "        mcmc_samples = 500\n",
    "    )\n",
    "\n",
    "    model.add_seasonality(\n",
    "        name='monthly', \n",
    "        period=30.5, \n",
    "        fourier_order=5\n",
    "    )\n",
    "    \n",
    "    return model\n",
    "    \n",
    "model = build_model()"
   ]
  },
  {
   "cell_type": "code",
   "execution_count": null,
   "metadata": {},
   "outputs": [],
   "source": [
    "model.fit(df_train)"
   ]
  },
  {
   "cell_type": "code",
   "execution_count": null,
   "metadata": {},
   "outputs": [],
   "source": [
    "def predict_dates(num_prediction):\n",
    "    last_date = df['ds'].values[-1]\n",
    "    prediction_dates = pd.date_range(last_date, periods=num_prediction+1, freq = 'W').tolist()\n",
    "    return prediction_dates\n",
    "  \n",
    "num_prediction = 25\n",
    "future = predict_dates(num_prediction)"
   ]
  },
  {
   "cell_type": "code",
   "execution_count": null,
   "metadata": {},
   "outputs": [],
   "source": [
    "future = pd.DataFrame(pd.to_datetime(future),columns=['ds'])\n",
    "future['ds'] = future['ds'] + timedelta(days=1)"
   ]
  },
  {
   "cell_type": "code",
   "execution_count": null,
   "metadata": {},
   "outputs": [],
   "source": [
    "forecast = model.predict(df=future)"
   ]
  },
  {
   "cell_type": "code",
   "execution_count": null,
   "metadata": {},
   "outputs": [],
   "source": [
    "fig, ax = plt.subplots()\n",
    "\n",
    "ax.fill_between(\n",
    "    x=forecast['ds'],\n",
    "    y1=forecast['yhat_lower'],\n",
    "    y2=forecast['yhat_upper'],\n",
    "    color=sns_c[2], \n",
    "    alpha=0.25,\n",
    "    label=r'0.95 credible_interval'\n",
    ")\n",
    "\n",
    "sns.lineplot(x='ds', y='y', label='y_train', data=df_train, ax=ax)\n",
    "sns.lineplot(x='ds', y='y', label='y_test', data=df_test, ax=ax)\n",
    "sns.lineplot(x='ds', y='yhat', label='y_hat', data=forecast, ax=ax)\n",
    "ax.axvline(threshold_date, color=sns_c[3], linestyle='--', label='train test split')\n",
    "ax.legend(loc='upper left')\n",
    "ax.set(title='Dependent Variable', ylabel='');"
   ]
  },
  {
   "cell_type": "code",
   "execution_count": null,
   "metadata": {},
   "outputs": [],
   "source": [
    "mask2 = forecast['ds'] < threshold_date\n",
    "\n",
    "forecast_train = forecast[mask2]\n",
    "forecast_test = forecast[~ mask2]"
   ]
  },
  {
   "cell_type": "code",
   "execution_count": null,
   "metadata": {},
   "outputs": [],
   "source": [
    "fig, ax = plt.subplots()\n",
    "\n",
    "ax.fill_between(\n",
    "    x=forecast_test['ds'],\n",
    "    y1=forecast_test['yhat_lower'],\n",
    "    y2=forecast_test['yhat_upper'],\n",
    "    color=sns_c[2], \n",
    "    alpha=0.25,\n",
    "    label=r'0.95 credible_interval'\n",
    ")\n",
    "\n",
    "sns.lineplot(x='ds', y='y', label='y_test', data=df_test, ax=ax)\n",
    "sns.lineplot(x='ds', y='yhat', label='y_hat', data=forecast_test, ax=ax)\n",
    "ax.legend(loc='lower right')\n",
    "ax.set(title='Dependent Variable', ylabel='');"
   ]
  },
  {
   "cell_type": "code",
   "execution_count": null,
   "metadata": {},
   "outputs": [],
   "source": [
    "next_6_month = forecast[['ds','yhat']]\n",
    "next_6_month['month'] = next_6_month['ds'].dt.month"
   ]
  },
  {
   "cell_type": "code",
   "execution_count": null,
   "metadata": {},
   "outputs": [],
   "source": [
    "next_6_month = next_6_month.groupby(by=['month']).sum()"
   ]
  },
  {
   "cell_type": "code",
   "execution_count": null,
   "metadata": {},
   "outputs": [],
   "source": [
    "next_6_month.plot(kind='bar')"
   ]
  },
  {
   "cell_type": "code",
   "execution_count": null,
   "metadata": {},
   "outputs": [],
   "source": []
  }
 ],
 "metadata": {
  "interpreter": {
   "hash": "ad3255bf553fe2c64946e8b6fbfb29ae3475662587d1cb16498b28b31fa43d49"
  },
  "kernelspec": {
   "display_name": "Python 3.9.5 64-bit ('matrixenv': venv)",
   "name": "python3"
  },
  "language_info": {
   "codemirror_mode": {
    "name": "ipython",
    "version": 3
   },
   "file_extension": ".py",
   "mimetype": "text/x-python",
   "name": "python",
   "nbconvert_exporter": "python",
   "pygments_lexer": "ipython3",
   "version": "3.9.5"
  },
  "orig_nbformat": 4
 },
 "nbformat": 4,
 "nbformat_minor": 2
}
